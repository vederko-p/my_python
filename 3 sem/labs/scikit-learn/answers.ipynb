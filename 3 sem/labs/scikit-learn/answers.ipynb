{
 "cells": [
  {
   "cell_type": "markdown",
   "metadata": {},
   "source": [
    "## Ответы на практические задания."
   ]
  },
  {
   "cell_type": "markdown",
   "metadata": {},
   "source": [
    "## 1. Загрузить новую базу данных из встроенных датасетов scikit-learn."
   ]
  },
  {
   "cell_type": "code",
   "execution_count": null,
   "metadata": {},
   "outputs": [],
   "source": [
    "from sklearn.datasets import load_iris  # импрот базы данных"
   ]
  },
  {
   "cell_type": "code",
   "execution_count": null,
   "metadata": {},
   "outputs": [],
   "source": [
    "X, y = load_iris(return_X_y=True)  # создание массивов с объектами и их ключами соответственно"
   ]
  },
  {
   "cell_type": "markdown",
   "metadata": {},
   "source": [
    " "
   ]
  },
  {
   "cell_type": "markdown",
   "metadata": {},
   "source": [
    "## 2. Кластеризировать загруженную базу данных с помощью любого алгоритма кластеризации."
   ]
  },
  {
   "cell_type": "code",
   "execution_count": null,
   "metadata": {},
   "outputs": [],
   "source": [
    "from sklearn.cluster import AgglomerativeClustering  # импортирование алгоритма кластеризации\n",
    "agg_clustering = AgglomerativeClustering(n_clusters=3)  # создание модели\n",
    "agg_clustering.fit(X[:50])  # кластеризация\n",
    "agg_clustering.labels_  # классы, к которым определены соответсвующие объекты"
   ]
  },
  {
   "cell_type": "markdown",
   "metadata": {},
   "source": [
    " "
   ]
  },
  {
   "cell_type": "markdown",
   "metadata": {},
   "source": [
    "## 3. С помощью любого алгоритма кластеризации разбить данные на 4 кластера. Визуализировать кластеризацию."
   ]
  },
  {
   "cell_type": "code",
   "execution_count": null,
   "metadata": {},
   "outputs": [],
   "source": [
    "from sklearn.cluster import SpectralClustering  # ипорт алгоритма кластеризации\n",
    "new_clustering = SpectralClustering(n_clusters=4)  # создание модели\n",
    "new_clustering.fit(X[:50])  # кластеризация\n",
    "new_clustering.labels_  # классы, к которым определены соответсвующие объекты"
   ]
  },
  {
   "cell_type": "markdown",
   "metadata": {},
   "source": [
    "Визуализация."
   ]
  },
  {
   "cell_type": "code",
   "execution_count": null,
   "metadata": {},
   "outputs": [],
   "source": [
    "from sklearn.decomposition import PCA  # импорт метода понижения размерности\n",
    "our_reduced_data = PCA(n_components=2).fit_transform(X[:50])  # понижение размерности\n",
    "our_clusters_in_new_dimension = new_clustering.fit(our_reduced_data)  # кластеризация данных, с уже пониженной размерностью"
   ]
  },
  {
   "cell_type": "code",
   "execution_count": null,
   "metadata": {},
   "outputs": [],
   "source": [
    "import matplotlib.pyplot as plt\n",
    "\n",
    "x0, x1, x2, x3 = [], [], [], []\n",
    "y0, y1, y2, y3 = [], [], [], []\n",
    "\n",
    "for i in range(len(our_clusters_in_new_dimension.labels_)):\n",
    "    if our_clusters_in_new_dimension.labels_[i] == 0:\n",
    "        x0.append(our_reduced_data[i, 0])\n",
    "        y0.append(our_reduced_data[i, 1])\n",
    "    elif our_clusters_in_new_dimension.labels_[i] == 1:\n",
    "        x1.append(our_reduced_data[i, 0])\n",
    "        y1.append(our_reduced_data[i, 1])\n",
    "    elif our_clusters_in_new_dimension.labels_[i] == 2:\n",
    "        x2.append(our_reduced_data[i, 0])\n",
    "        y2.append(our_reduced_data[i, 1])\n",
    "    elif our_clusters_in_new_dimension.labels_[i] == 3:\n",
    "        x3.append(our_reduced_data[i, 0])\n",
    "        y3.append(our_reduced_data[i, 1])\n",
    "\n",
    "for i, j, k in [(x0, y0, '#00d9ff'), (x1, y1, '#ffea00'), (x2, y2, '#ffae00'), (x3, y3, '#ae00ff')]:\n",
    "    plt.scatter(i, j, color=k)\n",
    "plt.show()"
   ]
  }
 ],
 "metadata": {
  "kernelspec": {
   "display_name": "Python 3",
   "language": "python",
   "name": "python3"
  },
  "language_info": {
   "name": ""
  }
 },
 "nbformat": 4,
 "nbformat_minor": 4
}
